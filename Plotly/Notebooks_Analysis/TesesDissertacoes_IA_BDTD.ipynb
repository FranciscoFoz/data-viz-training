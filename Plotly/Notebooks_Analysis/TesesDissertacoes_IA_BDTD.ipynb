{
 "cells": [
  {
   "cell_type": "markdown",
   "metadata": {},
   "source": [
    "# Visualização das teses e dissertações da BDTD sobre Inteligência Artificial\n",
    "## Utilizando Plotly"
   ]
  },
  {
   "cell_type": "markdown",
   "metadata": {},
   "source": [
    "### Introdução"
   ]
  },
  {
   "cell_type": "markdown",
   "metadata": {},
   "source": [
    "Já a alguns anos que inteligência artificial está no \"hype\" dos assuntos mais falados em tecnologia. \n",
    "Não porque ela é recente, pelo contrário, suas origens se remetem ao ínicio dos estudos da ciência da computação.\n",
    "Entretanto devido aos avanços das capacidades das máquinas em processamento, novos usos surgiram e a cada dia contribui ainda mais como parte do desenvolvimento da digitalização da sociedade. \n",
    "\n",
    "**Mas como esse assunto está sendo estudado no Brasil?**\n",
    "\n",
    "Uma das perspectivas que podemos utilizar é verificar sobre a produção de teses e dissertações, que são documentos de fontes primárias da informação.\n",
    "\n",
    "*Apenas uma das perspectivas, pois para se ter uma visão mais assertiva, precisaria se realizar um levantamento bibliográfico em diversificadas bases de dados*.\n"
   ]
  },
  {
   "cell_type": "markdown",
   "metadata": {},
   "source": [
    "### Objetivo"
   ]
  },
  {
   "cell_type": "markdown",
   "metadata": {},
   "source": [
    "Este notebook tem como objetivo visualizar os dados das teses e dissertações sobre IA indexados na BDTD, utilizando a biblioteca Plotly com Python.\n",
    "\n"
   ]
  },
  {
   "cell_type": "markdown",
   "metadata": {},
   "source": [
    "### Conjunto de dados"
   ]
  },
  {
   "cell_type": "markdown",
   "metadata": {},
   "source": [
    "Os dados foram coletados da BDTD no dia 04 de novembro de 2022, filtrando o termo \"inteligência artificial\" no campo \"assunto\".\n",
    "Ao todo foram recuperados 1651 documentos."
   ]
  },
  {
   "cell_type": "markdown",
   "metadata": {},
   "source": [
    "# Bibliotecas"
   ]
  },
  {
   "cell_type": "code",
   "execution_count": 1,
   "metadata": {},
   "outputs": [],
   "source": [
    "import pandas as pd"
   ]
  },
  {
   "cell_type": "code",
   "execution_count": null,
   "metadata": {},
   "outputs": [],
   "source": []
  }
 ],
 "metadata": {
  "kernelspec": {
   "display_name": "Python 3",
   "language": "python",
   "name": "python3"
  },
  "language_info": {
   "codemirror_mode": {
    "name": "ipython",
    "version": 3
   },
   "file_extension": ".py",
   "mimetype": "text/x-python",
   "name": "python",
   "nbconvert_exporter": "python",
   "pygments_lexer": "ipython3",
   "version": "3.9.13 (tags/v3.9.13:6de2ca5, May 17 2022, 16:36:42) [MSC v.1929 64 bit (AMD64)]"
  },
  "orig_nbformat": 4,
  "vscode": {
   "interpreter": {
    "hash": "c89dac2000cd39b6c6afdbb40384525553e908a214fa5e3caa43ad6708c415f4"
   }
  }
 },
 "nbformat": 4,
 "nbformat_minor": 2
}
